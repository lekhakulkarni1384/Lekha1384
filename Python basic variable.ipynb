{
 "cells": [
  {
   "cell_type": "code",
   "execution_count": 1,
   "id": "a91487c7-aae2-4e97-a426-ed3575afe36f",
   "metadata": {},
   "outputs": [
    {
     "data": {
      "text/plain": [
       "3"
      ]
     },
     "execution_count": 1,
     "metadata": {},
     "output_type": "execute_result"
    }
   ],
   "source": [
    "1+2"
   ]
  },
  {
   "cell_type": "code",
   "execution_count": 2,
   "id": "59af354f-3a65-4243-b602-f5a192fad0b1",
   "metadata": {},
   "outputs": [
    {
     "ename": "NameError",
     "evalue": "name 'qeeheheewje' is not defined",
     "output_type": "error",
     "traceback": [
      "\u001b[0;31m---------------------------------------------------------------------------\u001b[0m",
      "\u001b[0;31mNameError\u001b[0m                                 Traceback (most recent call last)",
      "Cell \u001b[0;32mIn[2], line 1\u001b[0m\n\u001b[0;32m----> 1\u001b[0m \u001b[38;5;241m83837823\u001b[39m\u001b[38;5;241m+\u001b[39m\u001b[43mqeeheheewje\u001b[49m\n",
      "\u001b[0;31mNameError\u001b[0m: name 'qeeheheewje' is not defined"
     ]
    }
   ],
   "source": [
    "83837823+qeeheheewje"
   ]
  },
  {
   "cell_type": "code",
   "execution_count": 3,
   "id": "8bc09fcb-b463-446b-b934-b05912079930",
   "metadata": {},
   "outputs": [
    {
     "data": {
      "text/plain": [
       "24"
      ]
     },
     "execution_count": 3,
     "metadata": {},
     "output_type": "execute_result"
    }
   ],
   "source": [
    "3*8"
   ]
  },
  {
   "cell_type": "code",
   "execution_count": 6,
   "id": "3874849a-6a1e-4e90-804a-da23e655381a",
   "metadata": {},
   "outputs": [],
   "source": [
    "lekha=123"
   ]
  },
  {
   "cell_type": "code",
   "execution_count": 7,
   "id": "95d73f4a-ac2f-4eaa-b849-f8daa7e3bacf",
   "metadata": {},
   "outputs": [
    {
     "data": {
      "text/plain": [
       "123"
      ]
     },
     "execution_count": 7,
     "metadata": {},
     "output_type": "execute_result"
    }
   ],
   "source": [
    "lekha"
   ]
  },
  {
   "cell_type": "code",
   "execution_count": 8,
   "id": "6aa30f3b-646f-43d5-8a50-afac897c0706",
   "metadata": {},
   "outputs": [
    {
     "data": {
      "text/plain": [
       "int"
      ]
     },
     "execution_count": 8,
     "metadata": {},
     "output_type": "execute_result"
    }
   ],
   "source": [
    "type(lekha)"
   ]
  },
  {
   "cell_type": "code",
   "execution_count": 10,
   "id": "e46b1a0d-8ab3-4928-a27b-7b6709bfe3a2",
   "metadata": {},
   "outputs": [],
   "source": [
    "a=lekha"
   ]
  },
  {
   "cell_type": "code",
   "execution_count": 11,
   "id": "e988bd7c-193c-4af4-acc6-cd11490b1460",
   "metadata": {},
   "outputs": [
    {
     "data": {
      "text/plain": [
       "int"
      ]
     },
     "execution_count": 11,
     "metadata": {},
     "output_type": "execute_result"
    }
   ],
   "source": [
    "type(a)"
   ]
  },
  {
   "cell_type": "code",
   "execution_count": 12,
   "id": "6d66278c-8fd8-4f71-b376-1341eb78cc34",
   "metadata": {},
   "outputs": [],
   "source": [
    "b=\"nikhil\""
   ]
  },
  {
   "cell_type": "code",
   "execution_count": 13,
   "id": "23ff911d-ba44-425f-9ff0-bf8a2d660318",
   "metadata": {},
   "outputs": [
    {
     "data": {
      "text/plain": [
       "str"
      ]
     },
     "execution_count": 13,
     "metadata": {},
     "output_type": "execute_result"
    }
   ],
   "source": [
    "type(b)"
   ]
  },
  {
   "cell_type": "code",
   "execution_count": 14,
   "id": "52702c81-4544-44eb-919d-7bf3ea1d049c",
   "metadata": {},
   "outputs": [],
   "source": [
    "c=123.8"
   ]
  },
  {
   "cell_type": "code",
   "execution_count": 15,
   "id": "c465f1a1-a2fc-448f-8f51-c98df46b1a7f",
   "metadata": {},
   "outputs": [
    {
     "data": {
      "text/plain": [
       "float"
      ]
     },
     "execution_count": 15,
     "metadata": {},
     "output_type": "execute_result"
    }
   ],
   "source": [
    "type(c)"
   ]
  },
  {
   "cell_type": "code",
   "execution_count": 23,
   "id": "a8ea30a4-f92b-43c6-a7a2-942c71021fb1",
   "metadata": {},
   "outputs": [
    {
     "ename": "SyntaxError",
     "evalue": "invalid syntax (170370955.py, line 1)",
     "output_type": "error",
     "traceback": [
      "\u001b[0;36m  Cell \u001b[0;32mIn[23], line 1\u001b[0;36m\u001b[0m\n\u001b[0;31m    bool false\u001b[0m\n\u001b[0m         ^\u001b[0m\n\u001b[0;31mSyntaxError\u001b[0m\u001b[0;31m:\u001b[0m invalid syntax\n"
     ]
    }
   ],
   "source": [
    "bool false"
   ]
  },
  {
   "cell_type": "code",
   "execution_count": 24,
   "id": "a5abda2c-d3f5-47ea-a8c1-b1a9170350e6",
   "metadata": {},
   "outputs": [
    {
     "ename": "SyntaxError",
     "evalue": "invalid syntax (3991533996.py, line 1)",
     "output_type": "error",
     "traceback": [
      "\u001b[0;36m  Cell \u001b[0;32mIn[24], line 1\u001b[0;36m\u001b[0m\n\u001b[0;31m    bool False\u001b[0m\n\u001b[0m         ^\u001b[0m\n\u001b[0;31mSyntaxError\u001b[0m\u001b[0;31m:\u001b[0m invalid syntax\n"
     ]
    }
   ],
   "source": [
    "bool False"
   ]
  },
  {
   "cell_type": "code",
   "execution_count": 25,
   "id": "ca2117e8-1774-40ec-86dc-7f8382bf7dc4",
   "metadata": {},
   "outputs": [
    {
     "ename": "SyntaxError",
     "evalue": "invalid decimal literal (451813246.py, line 1)",
     "output_type": "error",
     "traceback": [
      "\u001b[0;36m  Cell \u001b[0;32mIn[25], line 1\u001b[0;36m\u001b[0m\n\u001b[0;31m    e=5+6i\u001b[0m\n\u001b[0m        ^\u001b[0m\n\u001b[0;31mSyntaxError\u001b[0m\u001b[0;31m:\u001b[0m invalid decimal literal\n"
     ]
    }
   ],
   "source": [
    "e=5+6i"
   ]
  },
  {
   "cell_type": "code",
   "execution_count": 26,
   "id": "ca47f607-e5a2-42b9-ba3d-71557ae0f64e",
   "metadata": {},
   "outputs": [],
   "source": [
    "f= 5+7j"
   ]
  },
  {
   "cell_type": "code",
   "execution_count": 27,
   "id": "f31f3370-a1d1-41b7-b390-f16e05e242b3",
   "metadata": {},
   "outputs": [
    {
     "data": {
      "text/plain": [
       "(5+7j)"
      ]
     },
     "execution_count": 27,
     "metadata": {},
     "output_type": "execute_result"
    }
   ],
   "source": [
    "f"
   ]
  },
  {
   "cell_type": "code",
   "execution_count": 28,
   "id": "636ddf9c-a847-4691-8479-8f193e789a0d",
   "metadata": {},
   "outputs": [
    {
     "data": {
      "text/plain": [
       "complex"
      ]
     },
     "execution_count": 28,
     "metadata": {},
     "output_type": "execute_result"
    }
   ],
   "source": [
    "type(f)"
   ]
  },
  {
   "cell_type": "code",
   "execution_count": 29,
   "id": "1255217e-5463-4adc-92fd-eb456e55a9b4",
   "metadata": {},
   "outputs": [
    {
     "data": {
      "text/plain": [
       "5.0"
      ]
     },
     "execution_count": 29,
     "metadata": {},
     "output_type": "execute_result"
    }
   ],
   "source": [
    "f.real"
   ]
  },
  {
   "cell_type": "code",
   "execution_count": 30,
   "id": "5d0385f8-eb26-4188-916a-d06c333ebcf5",
   "metadata": {},
   "outputs": [
    {
     "data": {
      "text/plain": [
       "7.0"
      ]
     },
     "execution_count": 30,
     "metadata": {},
     "output_type": "execute_result"
    }
   ],
   "source": [
    "f.imag"
   ]
  },
  {
   "cell_type": "code",
   "execution_count": 31,
   "id": "5d8f1821-aaee-482c-b9fe-8f055d6dbbdb",
   "metadata": {},
   "outputs": [],
   "source": [
    "a= True"
   ]
  },
  {
   "cell_type": "code",
   "execution_count": 32,
   "id": "3a079f7e-93ae-4d87-a180-160ec466bd78",
   "metadata": {},
   "outputs": [
    {
     "data": {
      "text/plain": [
       "bool"
      ]
     },
     "execution_count": 32,
     "metadata": {},
     "output_type": "execute_result"
    }
   ],
   "source": [
    "type(a)"
   ]
  },
  {
   "cell_type": "code",
   "execution_count": 33,
   "id": "a47386ab-22cd-401a-a010-1ffbe819e2fb",
   "metadata": {},
   "outputs": [],
   "source": [
    "b= False"
   ]
  },
  {
   "cell_type": "code",
   "execution_count": 34,
   "id": "ad0eb465-4d71-4cdc-88a4-7df4fa55f737",
   "metadata": {},
   "outputs": [
    {
     "data": {
      "text/plain": [
       "bool"
      ]
     },
     "execution_count": 34,
     "metadata": {},
     "output_type": "execute_result"
    }
   ],
   "source": [
    "type(b)"
   ]
  },
  {
   "cell_type": "code",
   "execution_count": 36,
   "id": "5347611d-fd4f-46d2-8cf8-2eecd015a980",
   "metadata": {},
   "outputs": [
    {
     "data": {
      "text/plain": [
       "123"
      ]
     },
     "execution_count": 36,
     "metadata": {},
     "output_type": "execute_result"
    }
   ],
   "source": [
    "a1=56\n",
    "a2=67\n",
    "a1+a2"
   ]
  },
  {
   "cell_type": "code",
   "execution_count": 37,
   "id": "3f9f04af-a466-401f-9180-3435e8170abf",
   "metadata": {},
   "outputs": [
    {
     "data": {
      "text/plain": [
       "3752"
      ]
     },
     "execution_count": 37,
     "metadata": {},
     "output_type": "execute_result"
    }
   ],
   "source": [
    "a1*a2"
   ]
  },
  {
   "cell_type": "code",
   "execution_count": 38,
   "id": "4a73d49e-c696-401c-9698-40277f3302d1",
   "metadata": {},
   "outputs": [
    {
     "data": {
      "text/plain": [
       "0.835820895522388"
      ]
     },
     "execution_count": 38,
     "metadata": {},
     "output_type": "execute_result"
    }
   ],
   "source": [
    "a1/a2"
   ]
  },
  {
   "cell_type": "code",
   "execution_count": 39,
   "id": "9602c5ea-5d33-495e-a834-06a498a5e8d2",
   "metadata": {},
   "outputs": [
    {
     "data": {
      "text/plain": [
       "56"
      ]
     },
     "execution_count": 39,
     "metadata": {},
     "output_type": "execute_result"
    }
   ],
   "source": [
    "a1%a2"
   ]
  },
  {
   "cell_type": "code",
   "execution_count": 40,
   "id": "c495faa3-986d-49c0-9797-75430249658b",
   "metadata": {},
   "outputs": [
    {
     "data": {
      "text/plain": [
       "-11"
      ]
     },
     "execution_count": 40,
     "metadata": {},
     "output_type": "execute_result"
    }
   ],
   "source": [
    "a1-a2"
   ]
  },
  {
   "cell_type": "code",
   "execution_count": 41,
   "id": "7c9e85f1-8d0f-476c-a54a-4fb5844bdaae",
   "metadata": {},
   "outputs": [],
   "source": [
    "b1, b2 =12, 34"
   ]
  },
  {
   "cell_type": "markdown",
   "id": "d62dde9d-35f5-4656-bbdc-fc8b88f1aeb3",
   "metadata": {},
   "source": [
    "b1"
   ]
  },
  {
   "cell_type": "code",
   "execution_count": 42,
   "id": "0cc88e12-3eea-4eeb-9fda-bdf6d3e1925c",
   "metadata": {},
   "outputs": [
    {
     "data": {
      "text/plain": [
       "12"
      ]
     },
     "execution_count": 42,
     "metadata": {},
     "output_type": "execute_result"
    }
   ],
   "source": [
    "b1"
   ]
  },
  {
   "cell_type": "code",
   "execution_count": 43,
   "id": "69cccfd8-1916-40bd-9f32-b730f3aa3829",
   "metadata": {},
   "outputs": [
    {
     "data": {
      "text/plain": [
       "34"
      ]
     },
     "execution_count": 43,
     "metadata": {},
     "output_type": "execute_result"
    }
   ],
   "source": [
    "b2"
   ]
  },
  {
   "cell_type": "code",
   "execution_count": 44,
   "id": "bbdb8898-0a7c-45a5-bb77-a3e28980fb5d",
   "metadata": {},
   "outputs": [
    {
     "ename": "SyntaxError",
     "evalue": "invalid syntax (1157001913.py, line 1)",
     "output_type": "error",
     "traceback": [
      "\u001b[0;36m  Cell \u001b[0;32mIn[44], line 1\u001b[0;36m\u001b[0m\n\u001b[0;31m    m n, o, p = 12,14.7,\"lekha\",p=True\u001b[0m\n\u001b[0m      ^\u001b[0m\n\u001b[0;31mSyntaxError\u001b[0m\u001b[0;31m:\u001b[0m invalid syntax\n"
     ]
    }
   ],
   "source": [
    "m n, o, p = 12,14.7,\"lekha\",p=True"
   ]
  },
  {
   "cell_type": "code",
   "execution_count": 45,
   "id": "2eb78d5e-0ed2-4d16-9127-d1fa92766a22",
   "metadata": {},
   "outputs": [
    {
     "ename": "SyntaxError",
     "evalue": "invalid syntax (504520546.py, line 1)",
     "output_type": "error",
     "traceback": [
      "\u001b[0;36m  Cell \u001b[0;32mIn[45], line 1\u001b[0;36m\u001b[0m\n\u001b[0;31m    m n, o, p = 12,14.7,n=\"lekha\",p=True\u001b[0m\n\u001b[0m      ^\u001b[0m\n\u001b[0;31mSyntaxError\u001b[0m\u001b[0;31m:\u001b[0m invalid syntax\n"
     ]
    }
   ],
   "source": [
    "m n, o, p = 12,14.7,n=\"lekha\",p=True"
   ]
  },
  {
   "cell_type": "code",
   "execution_count": 46,
   "id": "d8cc2504-e3c7-4787-a174-734c5294e344",
   "metadata": {},
   "outputs": [
    {
     "ename": "SyntaxError",
     "evalue": "invalid syntax. Maybe you meant '==' or ':=' instead of '='? (329999803.py, line 1)",
     "output_type": "error",
     "traceback": [
      "\u001b[0;36m  Cell \u001b[0;32mIn[46], line 1\u001b[0;36m\u001b[0m\n\u001b[0;31m    m,n, o, p = 12,14.7,n=\"lekha\",p=True\u001b[0m\n\u001b[0m            ^\u001b[0m\n\u001b[0;31mSyntaxError\u001b[0m\u001b[0;31m:\u001b[0m invalid syntax. Maybe you meant '==' or ':=' instead of '='?\n"
     ]
    }
   ],
   "source": [
    "m,n, o, p = 12,14.7,n=\"lekha\",p=True"
   ]
  },
  {
   "cell_type": "code",
   "execution_count": 51,
   "id": "ba1f4fc3-6880-4dbe-8964-3b799da85b90",
   "metadata": {},
   "outputs": [],
   "source": [
    "a,b=12,4.5"
   ]
  },
  {
   "cell_type": "code",
   "execution_count": 52,
   "id": "646b96fd-e07d-4643-87ac-c2cbb381de62",
   "metadata": {},
   "outputs": [
    {
     "data": {
      "text/plain": [
       "12"
      ]
     },
     "execution_count": 52,
     "metadata": {},
     "output_type": "execute_result"
    }
   ],
   "source": [
    "a"
   ]
  },
  {
   "cell_type": "code",
   "execution_count": 53,
   "id": "541a74ed-4181-4977-9d6c-79e91d789e0b",
   "metadata": {},
   "outputs": [
    {
     "data": {
      "text/plain": [
       "4.5"
      ]
     },
     "execution_count": 53,
     "metadata": {},
     "output_type": "execute_result"
    }
   ],
   "source": [
    "b"
   ]
  },
  {
   "cell_type": "code",
   "execution_count": 54,
   "id": "f0d67528-18d2-4489-8747-ff73628948c8",
   "metadata": {},
   "outputs": [],
   "source": [
    "c,d='lekha', True"
   ]
  },
  {
   "cell_type": "code",
   "execution_count": 55,
   "id": "be3c5e69-fbf0-4bd9-b7b9-58640f97264c",
   "metadata": {},
   "outputs": [
    {
     "data": {
      "text/plain": [
       "'lekha'"
      ]
     },
     "execution_count": 55,
     "metadata": {},
     "output_type": "execute_result"
    }
   ],
   "source": [
    "c"
   ]
  },
  {
   "cell_type": "code",
   "execution_count": 56,
   "id": "db0b2eeb-bf84-4d47-baa4-7df7e6a71f74",
   "metadata": {},
   "outputs": [
    {
     "data": {
      "text/plain": [
       "True"
      ]
     },
     "execution_count": 56,
     "metadata": {},
     "output_type": "execute_result"
    }
   ],
   "source": [
    "d"
   ]
  },
  {
   "cell_type": "code",
   "execution_count": 57,
   "id": "5facfdd2-7bc0-4bb4-9c84-9c0fb02b44e3",
   "metadata": {},
   "outputs": [
    {
     "ename": "SyntaxError",
     "evalue": "invalid syntax. Maybe you meant '==' or ':=' instead of '='? (3998283323.py, line 1)",
     "output_type": "error",
     "traceback": [
      "\u001b[0;36m  Cell \u001b[0;32mIn[57], line 1\u001b[0;36m\u001b[0m\n\u001b[0;31m    @w=90\u001b[0m\n\u001b[0m     ^\u001b[0m\n\u001b[0;31mSyntaxError\u001b[0m\u001b[0;31m:\u001b[0m invalid syntax. Maybe you meant '==' or ':=' instead of '='?\n"
     ]
    }
   ],
   "source": [
    "@w=90"
   ]
  },
  {
   "cell_type": "code",
   "execution_count": 58,
   "id": "9812def2-ed46-4291-b2b9-3ccfb1dec876",
   "metadata": {},
   "outputs": [],
   "source": [
    "w0=32323"
   ]
  },
  {
   "cell_type": "code",
   "execution_count": 59,
   "id": "dab2b3af-681e-4d2a-9082-cf7371b3f0b2",
   "metadata": {},
   "outputs": [
    {
     "data": {
      "text/plain": [
       "32323"
      ]
     },
     "execution_count": 59,
     "metadata": {},
     "output_type": "execute_result"
    }
   ],
   "source": [
    "w0"
   ]
  },
  {
   "cell_type": "code",
   "execution_count": 60,
   "id": "27805ecc-3613-4d78-9e07-11c62e8d547e",
   "metadata": {},
   "outputs": [],
   "source": [
    "_b=10"
   ]
  },
  {
   "cell_type": "code",
   "execution_count": 61,
   "id": "a83c791f-896d-4473-92ca-4a5f7e3cfbda",
   "metadata": {},
   "outputs": [
    {
     "data": {
      "text/plain": [
       "10"
      ]
     },
     "execution_count": 61,
     "metadata": {},
     "output_type": "execute_result"
    }
   ],
   "source": [
    "_b"
   ]
  },
  {
   "cell_type": "code",
   "execution_count": 62,
   "id": "a1600026-8924-4052-bca3-1ec19141d200",
   "metadata": {},
   "outputs": [
    {
     "ename": "SyntaxError",
     "evalue": "cannot assign to expression here. Maybe you meant '==' instead of '='? (159075093.py, line 1)",
     "output_type": "error",
     "traceback": [
      "\u001b[0;36m  Cell \u001b[0;32mIn[62], line 1\u001b[0;36m\u001b[0m\n\u001b[0;31m    +c=90\u001b[0m\n\u001b[0m    ^\u001b[0m\n\u001b[0;31mSyntaxError\u001b[0m\u001b[0;31m:\u001b[0m cannot assign to expression here. Maybe you meant '==' instead of '='?\n"
     ]
    }
   ],
   "source": [
    "+c=90"
   ]
  },
  {
   "cell_type": "code",
   "execution_count": 63,
   "id": "3e9adad7-df84-42a3-9952-67143863e5b6",
   "metadata": {},
   "outputs": [
    {
     "ename": "SyntaxError",
     "evalue": "cannot assign to False (316044526.py, line 1)",
     "output_type": "error",
     "traceback": [
      "\u001b[0;36m  Cell \u001b[0;32mIn[63], line 1\u001b[0;36m\u001b[0m\n\u001b[0;31m    False=10\u001b[0m\n\u001b[0m    ^\u001b[0m\n\u001b[0;31mSyntaxError\u001b[0m\u001b[0;31m:\u001b[0m cannot assign to False\n"
     ]
    }
   ],
   "source": [
    "False=10"
   ]
  },
  {
   "cell_type": "code",
   "execution_count": 64,
   "id": "2fa9cced-7a48-435a-8bbd-e881df0d188e",
   "metadata": {},
   "outputs": [],
   "source": [
    "b1= True"
   ]
  },
  {
   "cell_type": "code",
   "execution_count": 65,
   "id": "1b2ce665-a8a9-4d26-951a-ae929d6a86e6",
   "metadata": {},
   "outputs": [],
   "source": [
    "b2=False"
   ]
  },
  {
   "cell_type": "code",
   "execution_count": 66,
   "id": "cdc0f2a3-ddae-4d66-8c9c-dc44bb427e9b",
   "metadata": {},
   "outputs": [
    {
     "data": {
      "text/plain": [
       "1"
      ]
     },
     "execution_count": 66,
     "metadata": {},
     "output_type": "execute_result"
    }
   ],
   "source": [
    "b1-b2"
   ]
  },
  {
   "cell_type": "code",
   "execution_count": 67,
   "id": "cb9ce5c4-c8db-4c30-95c3-ea82833cae71",
   "metadata": {},
   "outputs": [
    {
     "data": {
      "text/plain": [
       "-1"
      ]
     },
     "execution_count": 67,
     "metadata": {},
     "output_type": "execute_result"
    }
   ],
   "source": [
    "b2-b1"
   ]
  },
  {
   "cell_type": "code",
   "execution_count": 68,
   "id": "1ae659df-aaa9-4a0f-ae39-12b6a68c84a4",
   "metadata": {},
   "outputs": [
    {
     "data": {
      "text/plain": [
       "0"
      ]
     },
     "execution_count": 68,
     "metadata": {},
     "output_type": "execute_result"
    }
   ],
   "source": [
    "b1*b2"
   ]
  },
  {
   "cell_type": "code",
   "execution_count": 69,
   "id": "b1d52ce9-6c1f-4e35-abf4-87999b442951",
   "metadata": {},
   "outputs": [
    {
     "ename": "ZeroDivisionError",
     "evalue": "division by zero",
     "output_type": "error",
     "traceback": [
      "\u001b[0;31m---------------------------------------------------------------------------\u001b[0m",
      "\u001b[0;31mZeroDivisionError\u001b[0m                         Traceback (most recent call last)",
      "Cell \u001b[0;32mIn[69], line 1\u001b[0m\n\u001b[0;32m----> 1\u001b[0m \u001b[43mb1\u001b[49m\u001b[38;5;241;43m/\u001b[39;49m\u001b[43mb2\u001b[49m\n",
      "\u001b[0;31mZeroDivisionError\u001b[0m: division by zero"
     ]
    }
   ],
   "source": [
    "b1/b2"
   ]
  },
  {
   "cell_type": "code",
   "execution_count": 70,
   "id": "2d2d39ef-54f0-40f2-8aae-b2c15003c714",
   "metadata": {},
   "outputs": [],
   "source": [
    "s1='my name is lekha '"
   ]
  },
  {
   "cell_type": "code",
   "execution_count": 71,
   "id": "917ca68b-df2e-4086-b754-caf4929797ef",
   "metadata": {},
   "outputs": [
    {
     "data": {
      "text/plain": [
       "'my name is lekha '"
      ]
     },
     "execution_count": 71,
     "metadata": {},
     "output_type": "execute_result"
    }
   ],
   "source": [
    "s1"
   ]
  },
  {
   "cell_type": "code",
   "execution_count": 72,
   "id": "3f4178e4-4539-4076-9cac-a0fab57ab20c",
   "metadata": {},
   "outputs": [
    {
     "data": {
      "text/plain": [
       "str"
      ]
     },
     "execution_count": 72,
     "metadata": {},
     "output_type": "execute_result"
    }
   ],
   "source": [
    "type(s1)"
   ]
  },
  {
   "cell_type": "code",
   "execution_count": 84,
   "id": "7af14f44-66ae-4724-9629-0606f6533de9",
   "metadata": {},
   "outputs": [],
   "source": [
    "s2=\"this is my first python class for data master's\""
   ]
  },
  {
   "cell_type": "code",
   "execution_count": 85,
   "id": "1e1cb263-7233-4f11-b0ba-52f257c2a1c2",
   "metadata": {},
   "outputs": [
    {
     "data": {
      "text/plain": [
       "\"this is my first python class for data master's\""
      ]
     },
     "execution_count": 85,
     "metadata": {},
     "output_type": "execute_result"
    }
   ],
   "source": [
    "s2"
   ]
  },
  {
   "cell_type": "code",
   "execution_count": 86,
   "id": "ae5e5cde-52b0-47ef-9f38-2226a88d344a",
   "metadata": {},
   "outputs": [],
   "source": [
    "s2='this is my first python class for data master\"s'"
   ]
  },
  {
   "cell_type": "code",
   "execution_count": 87,
   "id": "1405d7a4-332d-42f5-aa8a-6ed1649d7988",
   "metadata": {},
   "outputs": [
    {
     "data": {
      "text/plain": [
       "'this is my first python class for data master\"s'"
      ]
     },
     "execution_count": 87,
     "metadata": {},
     "output_type": "execute_result"
    }
   ],
   "source": [
    "s2"
   ]
  },
  {
   "cell_type": "code",
   "execution_count": 88,
   "id": "ba6342c1-4734-4299-9eae-8a7decd39d65",
   "metadata": {},
   "outputs": [],
   "source": [
    "# this is my frist python project"
   ]
  },
  {
   "cell_type": "code",
   "execution_count": 91,
   "id": "dbe00079-d2dd-4da7-90e5-356bad3a48dd",
   "metadata": {},
   "outputs": [
    {
     "data": {
      "text/plain": [
       "'i work at fujitsu\\ni have a knowledge about japanese'"
      ]
     },
     "execution_count": 91,
     "metadata": {},
     "output_type": "execute_result"
    }
   ],
   "source": [
    "#my name is lekha\n",
    "'''i work at fujitsu\n",
    "i have a knowledge about japanese'''"
   ]
  },
  {
   "cell_type": "code",
   "execution_count": 92,
   "id": "0dd92d62-f3d3-4241-b401-492cba991cad",
   "metadata": {},
   "outputs": [
    {
     "data": {
      "text/plain": [
       "' i have a knowledge of python\\n    we love our group'"
      ]
     },
     "execution_count": 92,
     "metadata": {},
     "output_type": "execute_result"
    }
   ],
   "source": [
    "''' i have a knowledge of python\n",
    "    we love our group'''"
   ]
  },
  {
   "cell_type": "code",
   "execution_count": null,
   "id": "594a1cca-d8db-49ad-b5dd-c744f9c46674",
   "metadata": {},
   "outputs": [],
   "source": [
    "a=23"
   ]
  },
  {
   "cell_type": "code",
   "execution_count": null,
   "id": "6de8759d-6306-42f2-a2c9-2f8d5e9e611d",
   "metadata": {},
   "outputs": [],
   "source": [
    "b='lekha'"
   ]
  },
  {
   "cell_type": "code",
   "execution_count": 93,
   "id": "5b33ed7b-fa68-43af-a711-6caa83526365",
   "metadata": {},
   "outputs": [
    {
     "data": {
      "text/plain": [
       "16.5"
      ]
     },
     "execution_count": 93,
     "metadata": {},
     "output_type": "execute_result"
    }
   ],
   "source": [
    "a+b"
   ]
  },
  {
   "cell_type": "code",
   "execution_count": 94,
   "id": "aa1d4ea4-3acb-41d8-a67e-30595c95384d",
   "metadata": {},
   "outputs": [
    {
     "data": {
      "text/plain": [
       "16.5"
      ]
     },
     "execution_count": 94,
     "metadata": {},
     "output_type": "execute_result"
    }
   ],
   "source": [
    "a+b"
   ]
  },
  {
   "cell_type": "code",
   "execution_count": 95,
   "id": "fa83405a-cd91-455e-bf1a-670cf935070c",
   "metadata": {},
   "outputs": [],
   "source": [
    "k=23"
   ]
  },
  {
   "cell_type": "code",
   "execution_count": 96,
   "id": "983fa4f8-3b05-49d1-a07b-65c0c9ae0fb4",
   "metadata": {},
   "outputs": [],
   "source": [
    "r= 'lekha'"
   ]
  },
  {
   "cell_type": "code",
   "execution_count": 97,
   "id": "482f5823-cb2b-4670-afea-3ab0d624cc45",
   "metadata": {},
   "outputs": [
    {
     "ename": "TypeError",
     "evalue": "unsupported operand type(s) for +: 'int' and 'str'",
     "output_type": "error",
     "traceback": [
      "\u001b[0;31m---------------------------------------------------------------------------\u001b[0m",
      "\u001b[0;31mTypeError\u001b[0m                                 Traceback (most recent call last)",
      "Cell \u001b[0;32mIn[97], line 1\u001b[0m\n\u001b[0;32m----> 1\u001b[0m \u001b[43mk\u001b[49m\u001b[38;5;241;43m+\u001b[39;49m\u001b[43mr\u001b[49m\n",
      "\u001b[0;31mTypeError\u001b[0m: unsupported operand type(s) for +: 'int' and 'str'"
     ]
    }
   ],
   "source": [
    "k+r"
   ]
  },
  {
   "cell_type": "code",
   "execution_count": 99,
   "id": "730af372-5a6c-489a-a7c5-382c69c4176f",
   "metadata": {},
   "outputs": [
    {
     "data": {
      "text/plain": [
       "'lekhanikhil'"
      ]
     },
     "execution_count": 99,
     "metadata": {},
     "output_type": "execute_result"
    }
   ],
   "source": [
    "'lekha'+'nikhil'"
   ]
  },
  {
   "cell_type": "code",
   "execution_count": 100,
   "id": "dabc3cc9-b737-4665-97f3-a7fd3f112e09",
   "metadata": {},
   "outputs": [
    {
     "data": {
      "text/plain": [
       "'elhaa   jdjdjdjd'"
      ]
     },
     "execution_count": 100,
     "metadata": {},
     "output_type": "execute_result"
    }
   ],
   "source": [
    "'elhaa'+ '   jdjdjdjd'"
   ]
  },
  {
   "cell_type": "code",
   "execution_count": 102,
   "id": "e9176a4c-f4f8-4ff8-ac3a-206998778ca6",
   "metadata": {},
   "outputs": [],
   "source": [
    "a= '''ejehjhwhkwkewhwjewhe'''"
   ]
  },
  {
   "cell_type": "code",
   "execution_count": 103,
   "id": "3f2ae844-1fef-4c1e-9ad5-874eb6b4ae2b",
   "metadata": {},
   "outputs": [
    {
     "data": {
      "text/plain": [
       "str"
      ]
     },
     "execution_count": 103,
     "metadata": {},
     "output_type": "execute_result"
    }
   ],
   "source": [
    "type(a)"
   ]
  },
  {
   "cell_type": "code",
   "execution_count": 104,
   "id": "e247cfdb-1f2d-44b2-bb9b-a65ef1882337",
   "metadata": {},
   "outputs": [
    {
     "data": {
      "text/plain": [
       "'ejehjhwhkwkewhwjewhe'"
      ]
     },
     "execution_count": 104,
     "metadata": {},
     "output_type": "execute_result"
    }
   ],
   "source": [
    "a"
   ]
  },
  {
   "cell_type": "code",
   "execution_count": 105,
   "id": "45c7d0b7-588c-4560-a842-2f5f010c5fa9",
   "metadata": {},
   "outputs": [],
   "source": [
    "b=10"
   ]
  },
  {
   "cell_type": "code",
   "execution_count": 106,
   "id": "e54c7b71-cbf5-41f8-a902-40b678c71bb0",
   "metadata": {},
   "outputs": [
    {
     "data": {
      "text/plain": [
       "'10'"
      ]
     },
     "execution_count": 106,
     "metadata": {},
     "output_type": "execute_result"
    }
   ],
   "source": [
    "str(b)"
   ]
  },
  {
   "cell_type": "code",
   "execution_count": 107,
   "id": "6b89fe8f-5264-41e7-a6b5-a166a4c29ab5",
   "metadata": {},
   "outputs": [
    {
     "data": {
      "text/plain": [
       "23"
      ]
     },
     "execution_count": 107,
     "metadata": {},
     "output_type": "execute_result"
    }
   ],
   "source": [
    "int(k)"
   ]
  },
  {
   "cell_type": "code",
   "execution_count": 30,
   "id": "f398d93d-b197-4236-9fa4-184466a952f9",
   "metadata": {},
   "outputs": [],
   "source": [
    "c=20\n"
   ]
  },
  {
   "cell_type": "code",
   "execution_count": 33,
   "id": "c0dbba0f-40bf-49b6-8660-ce230c5e83a2",
   "metadata": {},
   "outputs": [
    {
     "name": "stdin",
     "output_type": "stream",
     "text": [
      " 787787.000\n"
     ]
    }
   ],
   "source": [
    "c=int(bool(input()))"
   ]
  },
  {
   "cell_type": "code",
   "execution_count": 34,
   "id": "0d2dcc76-1b4e-44cd-bb78-203f0aeb0aba",
   "metadata": {},
   "outputs": [
    {
     "data": {
      "text/plain": [
       "1"
      ]
     },
     "execution_count": 34,
     "metadata": {},
     "output_type": "execute_result"
    }
   ],
   "source": [
    "c"
   ]
  },
  {
   "cell_type": "code",
   "execution_count": 29,
   "id": "0f3e3b44-897f-468f-a2a2-81cdccc79389",
   "metadata": {},
   "outputs": [
    {
     "data": {
      "text/plain": [
       "str"
      ]
     },
     "execution_count": 29,
     "metadata": {},
     "output_type": "execute_result"
    }
   ],
   "source": [
    "type(c)"
   ]
  },
  {
   "cell_type": "code",
   "execution_count": 42,
   "id": "b15271ca-4fc6-44eb-886c-60efd414a176",
   "metadata": {},
   "outputs": [
    {
     "name": "stdin",
     "output_type": "stream",
     "text": [
      " True\n"
     ]
    },
    {
     "ename": "ValueError",
     "evalue": "could not convert string to float: 'True'",
     "output_type": "error",
     "traceback": [
      "\u001b[0;31m---------------------------------------------------------------------------\u001b[0m",
      "\u001b[0;31mValueError\u001b[0m                                Traceback (most recent call last)",
      "Cell \u001b[0;32mIn[42], line 1\u001b[0m\n\u001b[0;32m----> 1\u001b[0m s\u001b[38;5;241m=\u001b[39m\u001b[38;5;28;43mfloat\u001b[39;49m\u001b[43m(\u001b[49m\u001b[38;5;28;43minput\u001b[39;49m\u001b[43m(\u001b[49m\u001b[43m)\u001b[49m\u001b[43m)\u001b[49m\n",
      "\u001b[0;31mValueError\u001b[0m: could not convert string to float: 'True'"
     ]
    }
   ],
   "source": [
    "s=float(input())"
   ]
  },
  {
   "cell_type": "code",
   "execution_count": 38,
   "id": "4516b1e7-fb64-480b-a968-bc866ad49c4e",
   "metadata": {},
   "outputs": [
    {
     "data": {
      "text/plain": [
       "9873823789.0"
      ]
     },
     "execution_count": 38,
     "metadata": {},
     "output_type": "execute_result"
    }
   ],
   "source": [
    "s"
   ]
  },
  {
   "cell_type": "code",
   "execution_count": 39,
   "id": "3d02c525-e4af-4ae8-90ac-a24be0722712",
   "metadata": {},
   "outputs": [
    {
     "data": {
      "text/plain": [
       "float"
      ]
     },
     "execution_count": 39,
     "metadata": {},
     "output_type": "execute_result"
    }
   ],
   "source": [
    "type(s)"
   ]
  },
  {
   "cell_type": "code",
   "execution_count": 43,
   "id": "3701b206-0e88-4d56-8955-ef13f43d8728",
   "metadata": {},
   "outputs": [
    {
     "ename": "TypeError",
     "evalue": "int() argument must be a string, a bytes-like object or a real number, not 'method'",
     "output_type": "error",
     "traceback": [
      "\u001b[0;31m---------------------------------------------------------------------------\u001b[0m",
      "\u001b[0;31mTypeError\u001b[0m                                 Traceback (most recent call last)",
      "Cell \u001b[0;32mIn[43], line 1\u001b[0m\n\u001b[0;32m----> 1\u001b[0m t\u001b[38;5;241m=\u001b[39m\u001b[38;5;28mfloat\u001b[39m(\u001b[38;5;28;43mint\u001b[39;49m\u001b[43m(\u001b[49m\u001b[38;5;28;43minput\u001b[39;49m\u001b[43m)\u001b[49m)\n",
      "\u001b[0;31mTypeError\u001b[0m: int() argument must be a string, a bytes-like object or a real number, not 'method'"
     ]
    }
   ],
   "source": [
    "t=float(int(input))"
   ]
  },
  {
   "cell_type": "code",
   "execution_count": 44,
   "id": "598da982-5b42-47ca-bcfb-fc52625669e3",
   "metadata": {},
   "outputs": [],
   "source": [
    "h= 'lekhakulkarni'"
   ]
  },
  {
   "cell_type": "code",
   "execution_count": 45,
   "id": "296f0ac2-58be-4236-bf89-05386197a02d",
   "metadata": {},
   "outputs": [
    {
     "data": {
      "text/plain": [
       "'l'"
      ]
     },
     "execution_count": 45,
     "metadata": {},
     "output_type": "execute_result"
    }
   ],
   "source": [
    "h[0]"
   ]
  },
  {
   "cell_type": "code",
   "execution_count": 46,
   "id": "3053cf02-d877-4000-a416-3b5137ec32dd",
   "metadata": {},
   "outputs": [
    {
     "ename": "IndexError",
     "evalue": "string index out of range",
     "output_type": "error",
     "traceback": [
      "\u001b[0;31m---------------------------------------------------------------------------\u001b[0m",
      "\u001b[0;31mIndexError\u001b[0m                                Traceback (most recent call last)",
      "Cell \u001b[0;32mIn[46], line 1\u001b[0m\n\u001b[0;32m----> 1\u001b[0m \u001b[43mh\u001b[49m\u001b[43m[\u001b[49m\u001b[38;5;241;43m100\u001b[39;49m\u001b[43m]\u001b[49m\n",
      "\u001b[0;31mIndexError\u001b[0m: string index out of range"
     ]
    }
   ],
   "source": [
    "h[100]"
   ]
  },
  {
   "cell_type": "code",
   "execution_count": 47,
   "id": "422e3d0d-7f95-402f-8b30-fb7571aac1e4",
   "metadata": {},
   "outputs": [
    {
     "data": {
      "text/plain": [
       "'i'"
      ]
     },
     "execution_count": 47,
     "metadata": {},
     "output_type": "execute_result"
    }
   ],
   "source": [
    "h[-1]"
   ]
  },
  {
   "cell_type": "code",
   "execution_count": 48,
   "id": "bc6b9f10-f6e6-48fb-9af0-3fdda7f11f46",
   "metadata": {},
   "outputs": [
    {
     "data": {
      "text/plain": [
       "'u'"
      ]
     },
     "execution_count": 48,
     "metadata": {},
     "output_type": "execute_result"
    }
   ],
   "source": [
    "h[-7]"
   ]
  },
  {
   "cell_type": "code",
   "execution_count": 49,
   "id": "97f3e1d1-1891-41df-aeab-808014aaa191",
   "metadata": {},
   "outputs": [
    {
     "ename": "IndexError",
     "evalue": "string index out of range",
     "output_type": "error",
     "traceback": [
      "\u001b[0;31m---------------------------------------------------------------------------\u001b[0m",
      "\u001b[0;31mIndexError\u001b[0m                                Traceback (most recent call last)",
      "Cell \u001b[0;32mIn[49], line 1\u001b[0m\n\u001b[0;32m----> 1\u001b[0m \u001b[43mh\u001b[49m\u001b[43m[\u001b[49m\u001b[38;5;241;43m-\u001b[39;49m\u001b[38;5;241;43m101\u001b[39;49m\u001b[43m]\u001b[49m\n",
      "\u001b[0;31mIndexError\u001b[0m: string index out of range"
     ]
    }
   ],
   "source": [
    "h[-101]"
   ]
  },
  {
   "cell_type": "code",
   "execution_count": 50,
   "id": "6826f7dc-4287-4b6d-9680-b2d96f44166c",
   "metadata": {},
   "outputs": [
    {
     "data": {
      "text/plain": [
       "'lekhakulkarn'"
      ]
     },
     "execution_count": 50,
     "metadata": {},
     "output_type": "execute_result"
    }
   ],
   "source": [
    "h[:-1]"
   ]
  },
  {
   "cell_type": "code",
   "execution_count": 51,
   "id": "e32d51e3-d5ca-446b-b2d6-54bfeaffe9c8",
   "metadata": {},
   "outputs": [
    {
     "data": {
      "text/plain": [
       "'ikal'"
      ]
     },
     "execution_count": 51,
     "metadata": {},
     "output_type": "execute_result"
    }
   ],
   "source": [
    "h[::-4]"
   ]
  },
  {
   "cell_type": "code",
   "execution_count": 53,
   "id": "ee0bb4e5-4d31-4d88-8a29-3ec53759e479",
   "metadata": {},
   "outputs": [
    {
     "data": {
      "text/plain": [
       "'khakulkarni'"
      ]
     },
     "execution_count": 53,
     "metadata": {},
     "output_type": "execute_result"
    }
   ],
   "source": [
    "h[-11:]"
   ]
  },
  {
   "cell_type": "code",
   "execution_count": 54,
   "id": "101e8b74-cfc7-4b13-ac19-7c7bb38effe8",
   "metadata": {},
   "outputs": [
    {
     "data": {
      "text/plain": [
       "'khakulkarni'"
      ]
     },
     "execution_count": 54,
     "metadata": {},
     "output_type": "execute_result"
    }
   ],
   "source": [
    "h[2:]"
   ]
  },
  {
   "cell_type": "code",
   "execution_count": 55,
   "id": "d44f0829-18c0-4684-badc-1f297533715b",
   "metadata": {},
   "outputs": [
    {
     "data": {
      "text/plain": [
       "'le'"
      ]
     },
     "execution_count": 55,
     "metadata": {},
     "output_type": "execute_result"
    }
   ],
   "source": [
    "h[:2]"
   ]
  },
  {
   "cell_type": "code",
   "execution_count": 56,
   "id": "276d97c2-909d-421f-a3b0-b4ce3f191f97",
   "metadata": {},
   "outputs": [
    {
     "data": {
      "text/plain": [
       "'ekha'"
      ]
     },
     "execution_count": 56,
     "metadata": {},
     "output_type": "execute_result"
    }
   ],
   "source": [
    "h[1:5]"
   ]
  },
  {
   "cell_type": "code",
   "execution_count": 57,
   "id": "1b32ba05-32af-4ffe-93f6-c0ba939a841c",
   "metadata": {},
   "outputs": [],
   "source": [
    "n='pwskills'"
   ]
  },
  {
   "cell_type": "code",
   "execution_count": 58,
   "id": "ffe3c4b4-6ad5-4a87-9035-7c990a6b08bd",
   "metadata": {},
   "outputs": [
    {
     "data": {
      "text/plain": [
       "'skills'"
      ]
     },
     "execution_count": 58,
     "metadata": {},
     "output_type": "execute_result"
    }
   ],
   "source": [
    "n[2:]"
   ]
  },
  {
   "cell_type": "code",
   "execution_count": 59,
   "id": "a18cd73f-8dda-452d-9c54-aae879962dbb",
   "metadata": {},
   "outputs": [
    {
     "data": {
      "text/plain": [
       "'psil'"
      ]
     },
     "execution_count": 59,
     "metadata": {},
     "output_type": "execute_result"
    }
   ],
   "source": [
    "n[::2]"
   ]
  },
  {
   "cell_type": "code",
   "execution_count": 60,
   "id": "dad21ddb-d540-41c2-aa58-6401cfe83c8f",
   "metadata": {},
   "outputs": [
    {
     "data": {
      "text/plain": [
       "'psil'"
      ]
     },
     "execution_count": 60,
     "metadata": {},
     "output_type": "execute_result"
    }
   ],
   "source": [
    "n[0:7:2]"
   ]
  },
  {
   "cell_type": "code",
   "execution_count": 61,
   "id": "4bca4997-1b7e-4da2-9e68-01b030ff4e2c",
   "metadata": {},
   "outputs": [
    {
     "data": {
      "text/plain": [
       "'ills'"
      ]
     },
     "execution_count": 61,
     "metadata": {},
     "output_type": "execute_result"
    }
   ],
   "source": [
    "n[-4::]"
   ]
  },
  {
   "cell_type": "code",
   "execution_count": 64,
   "id": "3308710f-715a-4456-bd14-7774fd787e9f",
   "metadata": {},
   "outputs": [
    {
     "data": {
      "text/plain": [
       "'ills'"
      ]
     },
     "execution_count": 64,
     "metadata": {},
     "output_type": "execute_result"
    }
   ],
   "source": [
    "n[-4::]"
   ]
  },
  {
   "cell_type": "code",
   "execution_count": 65,
   "id": "d5c32d55-61d1-42c5-8da0-fe2722ef1d59",
   "metadata": {},
   "outputs": [
    {
     "data": {
      "text/plain": [
       "'pwsk'"
      ]
     },
     "execution_count": 65,
     "metadata": {},
     "output_type": "execute_result"
    }
   ],
   "source": [
    "n[:-4]"
   ]
  },
  {
   "cell_type": "code",
   "execution_count": 68,
   "id": "2d6b4fec-a518-4ce8-98ce-ce0d92a563d5",
   "metadata": {},
   "outputs": [
    {
     "data": {
      "text/plain": [
       "'p'"
      ]
     },
     "execution_count": 68,
     "metadata": {},
     "output_type": "execute_result"
    }
   ],
   "source": [
    "n[0:-1:7]"
   ]
  },
  {
   "cell_type": "code",
   "execution_count": 71,
   "id": "028b6c14-658d-4f84-b2d0-a8c2b7e5f65d",
   "metadata": {},
   "outputs": [
    {
     "data": {
      "text/plain": [
       "'slli'"
      ]
     },
     "execution_count": 71,
     "metadata": {},
     "output_type": "execute_result"
    }
   ],
   "source": [
    "n[7:3:-1]"
   ]
  },
  {
   "cell_type": "code",
   "execution_count": 72,
   "id": "328aa30d-f7b4-4000-989f-e0c5ebb96f74",
   "metadata": {},
   "outputs": [
    {
     "data": {
      "text/plain": [
       "'pwskill'"
      ]
     },
     "execution_count": 72,
     "metadata": {},
     "output_type": "execute_result"
    }
   ],
   "source": [
    "n[:-1]"
   ]
  },
  {
   "cell_type": "code",
   "execution_count": 73,
   "id": "a61a4c79-78dd-4799-9a84-177959a8ee5a",
   "metadata": {},
   "outputs": [
    {
     "data": {
      "text/plain": [
       "'sllikswp'"
      ]
     },
     "execution_count": 73,
     "metadata": {},
     "output_type": "execute_result"
    }
   ],
   "source": [
    "n[::-1]"
   ]
  },
  {
   "cell_type": "code",
   "execution_count": 74,
   "id": "a6926e4d-c2c1-4f8a-b4c7-881ede26d860",
   "metadata": {},
   "outputs": [
    {
     "ename": "ValueError",
     "evalue": "slice step cannot be zero",
     "output_type": "error",
     "traceback": [
      "\u001b[0;31m---------------------------------------------------------------------------\u001b[0m",
      "\u001b[0;31mValueError\u001b[0m                                Traceback (most recent call last)",
      "Cell \u001b[0;32mIn[74], line 1\u001b[0m\n\u001b[0;32m----> 1\u001b[0m \u001b[43mn\u001b[49m\u001b[43m[\u001b[49m\u001b[43m:\u001b[49m\u001b[43m:\u001b[49m\u001b[38;5;241;43m0\u001b[39;49m\u001b[43m]\u001b[49m\n",
      "\u001b[0;31mValueError\u001b[0m: slice step cannot be zero"
     ]
    }
   ],
   "source": [
    "n[::0]"
   ]
  },
  {
   "cell_type": "code",
   "execution_count": 75,
   "id": "e8f8a541-49d3-4796-9cf0-25f73cd7b8f9",
   "metadata": {},
   "outputs": [
    {
     "data": {
      "text/plain": [
       "'pwskills'"
      ]
     },
     "execution_count": 75,
     "metadata": {},
     "output_type": "execute_result"
    }
   ],
   "source": [
    "n[::1]"
   ]
  },
  {
   "cell_type": "code",
   "execution_count": null,
   "id": "5274820c-6066-4db6-87d1-6d0805a6e236",
   "metadata": {},
   "outputs": [],
   "source": []
  }
 ],
 "metadata": {
  "kernelspec": {
   "display_name": "Python 3 (ipykernel)",
   "language": "python",
   "name": "python3"
  },
  "language_info": {
   "codemirror_mode": {
    "name": "ipython",
    "version": 3
   },
   "file_extension": ".py",
   "mimetype": "text/x-python",
   "name": "python",
   "nbconvert_exporter": "python",
   "pygments_lexer": "ipython3",
   "version": "3.10.8"
  }
 },
 "nbformat": 4,
 "nbformat_minor": 5
}
